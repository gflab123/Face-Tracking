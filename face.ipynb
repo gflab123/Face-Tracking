{
 "cells": [
  {
   "cell_type": "markdown",
   "id": "4ebe02c5",
   "metadata": {},
   "source": [
    "#### Part 1 - Importing the module and loading the Model"
   ]
  },
  {
   "cell_type": "code",
   "execution_count": 1,
   "id": "dc1aa698",
   "metadata": {},
   "outputs": [],
   "source": [
    "import cv2\n",
    "face_cascade = cv2.CascadeClassifier('models/haarcascade_frontalface_default.xml')"
   ]
  },
  {
   "cell_type": "markdown",
   "id": "2ccd293e",
   "metadata": {},
   "source": [
    "#### Part 2 - Tracking the face from sample video"
   ]
  },
  {
   "cell_type": "code",
   "execution_count": 2,
   "id": "14eed27c",
   "metadata": {},
   "outputs": [],
   "source": [
    "\n",
    "cap = cv2.VideoCapture('datasets/CERN_Higgs boson_EDIT.mp4')\n",
    "while True:\n",
    "## Read the frame\n",
    "    ok, img = cap.read()\n",
    "    if not ok:\n",
    "        print('Video Ending')\n",
    "        cap.release()\n",
    "        cv2.destroyAllWindows()\n",
    "        break \n",
    "    # Convert to grayscale\n",
    "    gray = cv2.cvtColor(img, cv2.COLOR_BGR2GRAY)\n",
    "    # Detect the faces\n",
    "    faces = face_cascade.detectMultiScale(gray, 1.1,4)\n",
    "    # Draw the rectangle around each face\n",
    "    for (x, y, w, h) in faces:\n",
    "        cv2.rectangle(img, (x, y), (x+w, y+h),(0,0,255))\n",
    "    # Display\n",
    "    cv2.imshow('img', img)\n",
    "    # quit Press Key Q to quit and Close window\n",
    "    if cv2.waitKey(1) & 0xFF == ord('q'): \n",
    "        # Release the VideoCapture object\n",
    "        cap.release()\n",
    "        # Close all window\n",
    "        cv2.destroyAllWindows()\n",
    "        break\n"
   ]
  }
 ],
 "metadata": {
  "interpreter": {
   "hash": "0c2f9bbe7ce01b62feddf7ff3091619a4ac73770bcbf3ae9019540e4aac3ace6"
  },
  "kernelspec": {
   "display_name": "Python 3 (ipykernel)",
   "language": "python",
   "name": "python3"
  },
  "language_info": {
   "codemirror_mode": {
    "name": "ipython",
    "version": 3
   },
   "file_extension": ".py",
   "mimetype": "text/x-python",
   "name": "python",
   "nbconvert_exporter": "python",
   "pygments_lexer": "ipython3",
   "version": "3.10.10"
  }
 },
 "nbformat": 4,
 "nbformat_minor": 5
}
